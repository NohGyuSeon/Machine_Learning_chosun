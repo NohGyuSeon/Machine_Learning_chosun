{
 "cells": [
  {
   "cell_type": "markdown",
   "id": "466be292",
   "metadata": {},
   "source": [
    "# 5번 problem 2\n",
    "x_train2 = tf.random.uniform(shape=(256, 32))  \n",
    "y_train2 = tf.random.uniform(shape=(256, 16, 16,3))  \n",
    "print(&quot;Mean Squared Loss 함수, Conv2D 사용&quot;, x_train2.shape, y_train2.shape)  \n",
    "Dense, Flatten, Reshape, 층 사용 가능...  "
   ]
  },
  {
   "cell_type": "code",
   "execution_count": 1,
   "id": "7498ce2e",
   "metadata": {},
   "outputs": [],
   "source": [
    "from tensorflow.keras.layers import Flatten, Conv2D, Dropout, Dense, Reshape\n",
    "from tensorflow.keras import Model\n",
    "import tensorflow as tf\n",
    "\n",
    "import matplotlib.pyplot as pit"
   ]
  },
  {
   "cell_type": "code",
   "execution_count": 2,
   "id": "1cdbfbf1",
   "metadata": {},
   "outputs": [],
   "source": [
    "x_train2 = tf.random.uniform(shape=(256, 32))\n",
    "y_train2 = tf.random.uniform(shape=(256, 16, 16,3))"
   ]
  },
  {
   "cell_type": "code",
   "execution_count": 3,
   "id": "85027a0d",
   "metadata": {
    "scrolled": true
   },
   "outputs": [
    {
     "name": "stdout",
     "output_type": "stream",
     "text": [
      "Train shape (256, 32) (256, 16, 16, 3)\n"
     ]
    }
   ],
   "source": [
    "print(\"Train shape\", x_train2.shape, y_train2.shape)"
   ]
  },
  {
   "cell_type": "code",
   "execution_count": 4,
   "id": "a215341c",
   "metadata": {
    "scrolled": false
   },
   "outputs": [
    {
     "name": "stdout",
     "output_type": "stream",
     "text": [
      "Model: \"sequential\"\n",
      "_________________________________________________________________\n",
      " Layer (type)                Output Shape              Param #   \n",
      "=================================================================\n",
      " dense (Dense)               (None, 64)                2112      \n",
      "                                                                 \n",
      " dense_1 (Dense)             (None, 128)               8320      \n",
      "                                                                 \n",
      " dense_2 (Dense)             (None, 256)               33024     \n",
      "                                                                 \n",
      " reshape (Reshape)           (None, 16, 16, 1)         0         \n",
      "                                                                 \n",
      " conv2d (Conv2D)             (None, 16, 16, 3)         30        \n",
      "                                                                 \n",
      " conv2d_1 (Conv2D)           (None, 16, 16, 3)         84        \n",
      "                                                                 \n",
      "=================================================================\n",
      "Total params: 43,570\n",
      "Trainable params: 43,570\n",
      "Non-trainable params: 0\n",
      "_________________________________________________________________\n"
     ]
    }
   ],
   "source": [
    "## Define  Model\n",
    "model = tf.keras.models.Sequential([\n",
    "    Dense(64, activation='relu', input_shape=(32, )),\n",
    "    Dense(128, activation='relu'),\n",
    "    Dense(256, activation='relu'),\n",
    "    Reshape((16, 16, 1)),\n",
    "    Conv2D(3, kernel_size=(3, 3), strides=(1, 1), padding='same', activation='relu'),\n",
    "    Conv2D(3, kernel_size=(3, 3), strides=(1, 1), padding='same', activation=None),\n",
    "])\n",
    "model.summary()"
   ]
  },
  {
   "cell_type": "code",
   "execution_count": 5,
   "id": "f143d5d2",
   "metadata": {},
   "outputs": [],
   "source": [
    "model.compile(optimizer='adam',\n",
    "              loss='mean_squared_error',\n",
    "              metrics=[tf.keras.metrics.mse])"
   ]
  },
  {
   "cell_type": "code",
   "execution_count": 6,
   "id": "b0b62886",
   "metadata": {},
   "outputs": [],
   "source": [
    "epochs = 10\n",
    "batch_size = 256\n",
    "learning_rate = 0.1\n",
    "verbose = 1\n",
    "validation_split = 0.2"
   ]
  },
  {
   "cell_type": "code",
   "execution_count": 7,
   "id": "6c26eeb5",
   "metadata": {},
   "outputs": [
    {
     "name": "stdout",
     "output_type": "stream",
     "text": [
      "Epoch 1/10\n",
      "1/1 [==============================] - 1s 596ms/step - loss: 0.3244 - mean_squared_error: 0.3244 - val_loss: 0.3190 - val_mean_squared_error: 0.3190\n",
      "Epoch 2/10\n",
      "1/1 [==============================] - 0s 24ms/step - loss: 0.3194 - mean_squared_error: 0.3194 - val_loss: 0.3134 - val_mean_squared_error: 0.3134\n",
      "Epoch 3/10\n",
      "1/1 [==============================] - 0s 25ms/step - loss: 0.3139 - mean_squared_error: 0.3139 - val_loss: 0.3074 - val_mean_squared_error: 0.3074\n",
      "Epoch 4/10\n",
      "1/1 [==============================] - 0s 25ms/step - loss: 0.3079 - mean_squared_error: 0.3079 - val_loss: 0.3009 - val_mean_squared_error: 0.3009\n",
      "Epoch 5/10\n",
      "1/1 [==============================] - 0s 26ms/step - loss: 0.3015 - mean_squared_error: 0.3015 - val_loss: 0.2940 - val_mean_squared_error: 0.2940\n",
      "Epoch 6/10\n",
      "1/1 [==============================] - 0s 24ms/step - loss: 0.2947 - mean_squared_error: 0.2947 - val_loss: 0.2866 - val_mean_squared_error: 0.2866\n",
      "Epoch 7/10\n",
      "1/1 [==============================] - 0s 26ms/step - loss: 0.2874 - mean_squared_error: 0.2874 - val_loss: 0.2789 - val_mean_squared_error: 0.2789\n",
      "Epoch 8/10\n",
      "1/1 [==============================] - 0s 27ms/step - loss: 0.2797 - mean_squared_error: 0.2797 - val_loss: 0.2707 - val_mean_squared_error: 0.2707\n",
      "Epoch 9/10\n",
      "1/1 [==============================] - 0s 25ms/step - loss: 0.2715 - mean_squared_error: 0.2715 - val_loss: 0.2621 - val_mean_squared_error: 0.2621\n",
      "Epoch 10/10\n",
      "1/1 [==============================] - 0s 25ms/step - loss: 0.2630 - mean_squared_error: 0.2630 - val_loss: 0.2533 - val_mean_squared_error: 0.2533\n"
     ]
    },
    {
     "data": {
      "text/plain": [
       "<keras.callbacks.History at 0x167b51d6b60>"
      ]
     },
     "execution_count": 7,
     "metadata": {},
     "output_type": "execute_result"
    }
   ],
   "source": [
    "model.fit(x_train2, y_train2,\n",
    "          batch_size=batch_size, \n",
    "          epochs=epochs,\n",
    "          verbose=verbose, \n",
    "          validation_split=validation_split)"
   ]
  },
  {
   "cell_type": "code",
   "execution_count": null,
   "id": "701a67a5",
   "metadata": {},
   "outputs": [],
   "source": []
  }
 ],
 "metadata": {
  "kernelspec": {
   "display_name": "Python 3 (ipykernel)",
   "language": "python",
   "name": "python3"
  },
  "language_info": {
   "codemirror_mode": {
    "name": "ipython",
    "version": 3
   },
   "file_extension": ".py",
   "mimetype": "text/x-python",
   "name": "python",
   "nbconvert_exporter": "python",
   "pygments_lexer": "ipython3",
   "version": "3.7.13"
  }
 },
 "nbformat": 4,
 "nbformat_minor": 5
}
