{
 "cells": [
  {
   "cell_type": "markdown",
   "id": "466be292",
   "metadata": {},
   "source": [
    "# 3번\n",
    "MyDense class 구현.  \n",
    "MyDense는 tensorflow.keras.layers.Dense와 똑같이 사용할 수 있다.  \n",
    "MyDense의 생성자 매개 변수는 units, activation=None, use_bias = True, kernel_initializer = &#039;glorot_uniform&#039;, bias_initializer = &#039;zeros&#039; 이다  \n",
    "MyDense에서 tensorflow.keras.layers.Conv1D, tensorflow.keras.layers.Flatten, tf.expand_dims를 사용해서 구현 가능.  \n",
    "다시 이야기해 Conv1D층을 Dense층과 똑 같이 실행되게 사용할 수 있다는 것을 보여라."
   ]
  },
  {
   "cell_type": "code",
   "execution_count": 1,
   "id": "7498ce2e",
   "metadata": {},
   "outputs": [],
   "source": [
    "from tensorflow.keras.layers import Flatten, Conv1D, Conv2D\n",
    "from tensorflow.keras import Model\n",
    "import tensorflow as tf\n",
    "\n",
    "import matplotlib.pyplot as pit"
   ]
  },
  {
   "cell_type": "code",
   "execution_count": 2,
   "id": "6e685d51",
   "metadata": {},
   "outputs": [],
   "source": [
    "class MyDense(tf.keras.layers.Layer):\n",
    "    def __init__(self, units, activation=None, use_bias=True, kernel_initializer=\"glorot_uniform\", bias_initializer=\"zeros\"):\n",
    "        super(MyDense, self).__init__()\n",
    "        self.units = units\n",
    "        self.activation = activation\n",
    "        self.use_bias = use_bias\n",
    "        self.kernel_initializer = kernel_initializer\n",
    "        self.bias_initializer = bias_initializer\n",
    "    \n",
    "        self.flatten = Flatten()\n",
    "        self.expand_dims = tf.expand_dims\n",
    "        self.conv1d = Conv1D(units, \n",
    "                             1,\n",
    "                             padding='same',\n",
    "                             activation=self.activation, \n",
    "                             use_bias=self.use_bias,\n",
    "                             kernel_initializer=self.kernel_initializer,\n",
    "                             bias_initializer=self.bias_initializer)\n",
    "\n",
    "    def call(self, input_tensor):\n",
    "        x = self.flatten(input_tensor)\n",
    "        x = self.expand_dims(x, axis=1)\n",
    "        x = self.conv1d(x)\n",
    "        output = self.flatten(x)\n",
    "        return output"
   ]
  },
  {
   "cell_type": "code",
   "execution_count": null,
   "id": "3375d766",
   "metadata": {},
   "outputs": [],
   "source": []
  },
  {
   "cell_type": "code",
   "execution_count": 3,
   "id": "3ead013f",
   "metadata": {
    "scrolled": true
   },
   "outputs": [
    {
     "data": {
      "text/plain": [
       "<module 'keras.api._v2.keras.datasets.mnist' from 'C:\\\\Users\\\\jyb\\\\Anaconda3\\\\envs\\\\private\\\\lib\\\\site-packages\\\\keras\\\\api\\\\_v2\\\\keras\\\\datasets\\\\mnist\\\\__init__.py'>"
      ]
     },
     "execution_count": 3,
     "metadata": {},
     "output_type": "execute_result"
    }
   ],
   "source": [
    "mnist = tf.keras.datasets.mnist\n",
    "mnist"
   ]
  },
  {
   "cell_type": "code",
   "execution_count": 4,
   "id": "8fd4eb03",
   "metadata": {},
   "outputs": [],
   "source": [
    "(x_train, y_train), (x_test, y_test) = mnist.load_data()"
   ]
  },
  {
   "cell_type": "code",
   "execution_count": 5,
   "id": "85027a0d",
   "metadata": {
    "scrolled": true
   },
   "outputs": [
    {
     "name": "stdout",
     "output_type": "stream",
     "text": [
      "Train shape (60000, 28, 28) (60000,)\n",
      "Test shape (10000, 28, 28) (10000,)\n"
     ]
    }
   ],
   "source": [
    "print(\"Train shape\", x_train.shape, y_train.shape)\n",
    "print(\"Test shape\", x_test.shape, y_test.shape)"
   ]
  },
  {
   "cell_type": "code",
   "execution_count": 6,
   "id": "a4c42bcd",
   "metadata": {},
   "outputs": [
    {
     "name": "stdout",
     "output_type": "stream",
     "text": [
      "Label shape (60000,) (10000,)\n"
     ]
    }
   ],
   "source": [
    "print(\"Label shape\", y_train.shape, y_test.shape)"
   ]
  },
  {
   "cell_type": "code",
   "execution_count": 7,
   "id": "16af4a1d",
   "metadata": {},
   "outputs": [],
   "source": [
    "reshaped_train_x = x_train.reshape(-1, 28, 28, 1)\n",
    "reshaped_test_x = x_test.reshape(-1, 28, 28, 1)"
   ]
  },
  {
   "cell_type": "code",
   "execution_count": 8,
   "id": "f2b3808b",
   "metadata": {},
   "outputs": [
    {
     "name": "stdout",
     "output_type": "stream",
     "text": [
      "Reshaped shape (60000, 28, 28, 1) (10000, 28, 28, 1)\n"
     ]
    }
   ],
   "source": [
    "print(\"Reshaped shape\", reshaped_train_x.shape, reshaped_test_x.shape)"
   ]
  },
  {
   "cell_type": "code",
   "execution_count": 9,
   "id": "71fbde84",
   "metadata": {},
   "outputs": [],
   "source": [
    "## Nomralize\n",
    "reshaped_train_x, reshaped_test_x = reshaped_train_x / 255.0, reshaped_test_x / 255.0"
   ]
  },
  {
   "cell_type": "code",
   "execution_count": 10,
   "id": "a215341c",
   "metadata": {
    "scrolled": false
   },
   "outputs": [
    {
     "name": "stdout",
     "output_type": "stream",
     "text": [
      "Model: \"sequential\"\n",
      "_________________________________________________________________\n",
      " Layer (type)                Output Shape              Param #   \n",
      "=================================================================\n",
      " flatten (Flatten)           (None, 784)               0         \n",
      "                                                                 \n",
      " dense (Dense)               (None, 128)               100480    \n",
      "                                                                 \n",
      " my_dense (MyDense)          (None, 10)                2570      \n",
      "                                                                 \n",
      "=================================================================\n",
      "Total params: 103,050\n",
      "Trainable params: 103,050\n",
      "Non-trainable params: 0\n",
      "_________________________________________________________________\n"
     ]
    }
   ],
   "source": [
    "## Define  Model\n",
    "model = tf.keras.models.Sequential([\n",
    "    tf.keras.layers.Flatten(input_shape=(28, 28)),\n",
    "    tf.keras.layers.Dense(128, activation='relu'),\n",
    "    MyDense(64),\n",
    "    MyDense(10, activation='softmax')\n",
    "])\n",
    "model.summary()"
   ]
  },
  {
   "cell_type": "code",
   "execution_count": 11,
   "id": "f143d5d2",
   "metadata": {},
   "outputs": [],
   "source": [
    "model.compile(optimizer='adam',\n",
    "              loss='sparse_categorical_crossentropy',\n",
    "              metrics=['accuracy'])"
   ]
  },
  {
   "cell_type": "code",
   "execution_count": 12,
   "id": "b0b62886",
   "metadata": {},
   "outputs": [],
   "source": [
    "epochs = 10\n",
    "batch_size = 256\n",
    "learning_rate = 0.01\n",
    "verbose = 1\n",
    "validation_split = 0.2"
   ]
  },
  {
   "cell_type": "code",
   "execution_count": 13,
   "id": "6c26eeb5",
   "metadata": {},
   "outputs": [
    {
     "name": "stdout",
     "output_type": "stream",
     "text": [
      "Epoch 1/10\n",
      "188/188 [==============================] - 1s 2ms/step - loss: 2.6240 - accuracy: 0.2205 - val_loss: 2.3022 - val_accuracy: 0.2038\n",
      "Epoch 2/10\n",
      "188/188 [==============================] - 0s 2ms/step - loss: 2.3025 - accuracy: 0.1972 - val_loss: 2.3022 - val_accuracy: 0.2038\n",
      "Epoch 3/10\n",
      "188/188 [==============================] - 0s 2ms/step - loss: 2.3025 - accuracy: 0.1972 - val_loss: 2.3022 - val_accuracy: 0.2038\n",
      "Epoch 4/10\n",
      "188/188 [==============================] - 0s 2ms/step - loss: 2.3025 - accuracy: 0.1972 - val_loss: 2.3022 - val_accuracy: 0.2038\n",
      "Epoch 5/10\n",
      "188/188 [==============================] - 0s 2ms/step - loss: 2.3025 - accuracy: 0.1972 - val_loss: 2.3022 - val_accuracy: 0.2038\n",
      "Epoch 6/10\n",
      "188/188 [==============================] - 0s 2ms/step - loss: 2.3025 - accuracy: 0.1972 - val_loss: 2.3022 - val_accuracy: 0.2038\n",
      "Epoch 7/10\n",
      "188/188 [==============================] - 0s 2ms/step - loss: 2.3025 - accuracy: 0.1972 - val_loss: 2.3022 - val_accuracy: 0.2038\n",
      "Epoch 8/10\n",
      "188/188 [==============================] - 0s 2ms/step - loss: 2.3025 - accuracy: 0.1972 - val_loss: 2.3022 - val_accuracy: 0.2038\n",
      "Epoch 9/10\n",
      "188/188 [==============================] - 0s 2ms/step - loss: 2.3025 - accuracy: 0.1972 - val_loss: 2.3022 - val_accuracy: 0.2038\n",
      "Epoch 10/10\n",
      "188/188 [==============================] - 0s 2ms/step - loss: 2.3025 - accuracy: 0.1972 - val_loss: 2.3022 - val_accuracy: 0.2038\n"
     ]
    },
    {
     "data": {
      "text/plain": [
       "<keras.callbacks.History at 0x25877d3ce50>"
      ]
     },
     "execution_count": 13,
     "metadata": {},
     "output_type": "execute_result"
    }
   ],
   "source": [
    "model.fit(reshaped_train_x, y_train,\n",
    "          batch_size=batch_size, \n",
    "          epochs=epochs,\n",
    "          verbose=verbose, \n",
    "          validation_split=validation_split)"
   ]
  },
  {
   "cell_type": "code",
   "execution_count": 14,
   "id": "9ae173dd",
   "metadata": {},
   "outputs": [
    {
     "name": "stdout",
     "output_type": "stream",
     "text": [
      "313/313 [==============================] - 0s 645us/step - loss: 2.3026 - accuracy: 0.1879\n",
      "Test accuracy:  0.18790000677108765\n"
     ]
    }
   ],
   "source": [
    "test_loss, test_acc = model.evaluate(x_test, y_test)\n",
    "print('Test accuracy: ', test_acc)"
   ]
  },
  {
   "cell_type": "code",
   "execution_count": null,
   "id": "701a67a5",
   "metadata": {},
   "outputs": [],
   "source": []
  }
 ],
 "metadata": {
  "kernelspec": {
   "display_name": "Python 3 (ipykernel)",
   "language": "python",
   "name": "python3"
  },
  "language_info": {
   "codemirror_mode": {
    "name": "ipython",
    "version": 3
   },
   "file_extension": ".py",
   "mimetype": "text/x-python",
   "name": "python",
   "nbconvert_exporter": "python",
   "pygments_lexer": "ipython3",
   "version": "3.7.13"
  }
 },
 "nbformat": 4,
 "nbformat_minor": 5
}
