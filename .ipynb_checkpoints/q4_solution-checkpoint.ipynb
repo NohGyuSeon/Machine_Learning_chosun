{
 "cells": [
  {
   "cell_type": "markdown",
   "id": "466be292",
   "metadata": {},
   "source": [
    "# 4번 problem 1\n",
    "x_train1 = tf.random.uniform(shape=(128,24,24,3))  \n",
    "y_train1 = tf.random.uniform(shape=(128,1), minval=0, maxval=7, dtype=&#039;int32&#039;)  \n",
    "print(&quot;cross entropy loss 함수, Conv2D, 사용&quot;, x_train1.shape, y_train1.shape)  \n",
    "Dense, Flatten, Reshape, 층 사용 가능...  "
   ]
  },
  {
   "cell_type": "code",
   "execution_count": 1,
   "id": "7498ce2e",
   "metadata": {},
   "outputs": [],
   "source": [
    "from tensorflow.keras.layers import Flatten, Conv2D, Dropout, Dense\n",
    "from tensorflow.keras import Model\n",
    "import tensorflow as tf\n",
    "\n",
    "import matplotlib.pyplot as pit"
   ]
  },
  {
   "cell_type": "code",
   "execution_count": 2,
   "id": "d1fb6343",
   "metadata": {},
   "outputs": [],
   "source": [
    "x_train1 = tf.random.uniform(shape=(128,24,24,3))\n",
    "y_train1 = tf.random.uniform(shape=(128,1), minval=0, maxval=7, dtype='int32')"
   ]
  },
  {
   "cell_type": "code",
   "execution_count": 3,
   "id": "85027a0d",
   "metadata": {
    "scrolled": true
   },
   "outputs": [
    {
     "name": "stdout",
     "output_type": "stream",
     "text": [
      "Train shape (128, 24, 24, 3) (128, 1)\n"
     ]
    }
   ],
   "source": [
    "print(\"Train shape\", x_train1.shape, y_train1.shape)"
   ]
  },
  {
   "cell_type": "code",
   "execution_count": 4,
   "id": "a215341c",
   "metadata": {
    "scrolled": false
   },
   "outputs": [
    {
     "name": "stdout",
     "output_type": "stream",
     "text": [
      "Model: \"sequential\"\n",
      "_________________________________________________________________\n",
      " Layer (type)                Output Shape              Param #   \n",
      "=================================================================\n",
      " conv2d (Conv2D)             (None, 12, 12, 32)        896       \n",
      "                                                                 \n",
      " conv2d_1 (Conv2D)           (None, 5, 5, 64)          18496     \n",
      "                                                                 \n",
      " conv2d_2 (Conv2D)           (None, 2, 2, 128)         73856     \n",
      "                                                                 \n",
      " flatten (Flatten)           (None, 512)               0         \n",
      "                                                                 \n",
      " dense (Dense)               (None, 128)               65664     \n",
      "                                                                 \n",
      " dropout (Dropout)           (None, 128)               0         \n",
      "                                                                 \n",
      " dense_1 (Dense)             (None, 10)                1290      \n",
      "                                                                 \n",
      "=================================================================\n",
      "Total params: 160,202\n",
      "Trainable params: 160,202\n",
      "Non-trainable params: 0\n",
      "_________________________________________________________________\n"
     ]
    }
   ],
   "source": [
    "## Define  Model\n",
    "model = tf.keras.models.Sequential([\n",
    "    Conv2D(32, kernel_size=(3, 3), strides=(2, 2), padding='same', activation='relu', input_shape=(24, 24, 3)),\n",
    "    Conv2D(64, kernel_size=(3, 3), strides=(2, 2), padding='valid', activation='relu'),\n",
    "    Conv2D(128, kernel_size=(3, 3), strides=(2, 2), padding='valid', activation='relu'),\n",
    "    Flatten(),\n",
    "    Dense(128, activation='relu'),\n",
    "    Dropout(0.1),\n",
    "    Dense(10, activation='softmax')\n",
    "])\n",
    "model.summary()"
   ]
  },
  {
   "cell_type": "code",
   "execution_count": 5,
   "id": "f143d5d2",
   "metadata": {},
   "outputs": [],
   "source": [
    "model.compile(optimizer='adam',\n",
    "              loss='sparse_categorical_crossentropy',\n",
    "              metrics=['accuracy'])"
   ]
  },
  {
   "cell_type": "code",
   "execution_count": 6,
   "id": "b0b62886",
   "metadata": {},
   "outputs": [],
   "source": [
    "epochs = 10\n",
    "batch_size = 256\n",
    "learning_rate = 0.01\n",
    "verbose = 1\n",
    "validation_split = 0.2"
   ]
  },
  {
   "cell_type": "code",
   "execution_count": 7,
   "id": "6c26eeb5",
   "metadata": {},
   "outputs": [
    {
     "name": "stdout",
     "output_type": "stream",
     "text": [
      "Epoch 1/10\n",
      "1/1 [==============================] - 1s 585ms/step - loss: 2.2935 - accuracy: 0.1078 - val_loss: 2.2582 - val_accuracy: 0.0385\n",
      "Epoch 2/10\n",
      "1/1 [==============================] - 0s 25ms/step - loss: 2.2423 - accuracy: 0.2059 - val_loss: 2.2170 - val_accuracy: 0.0385\n",
      "Epoch 3/10\n",
      "1/1 [==============================] - 0s 24ms/step - loss: 2.1850 - accuracy: 0.1863 - val_loss: 2.1636 - val_accuracy: 0.0385\n",
      "Epoch 4/10\n",
      "1/1 [==============================] - 0s 25ms/step - loss: 2.1206 - accuracy: 0.2451 - val_loss: 2.1075 - val_accuracy: 0.0385\n",
      "Epoch 5/10\n",
      "1/1 [==============================] - 0s 23ms/step - loss: 2.0299 - accuracy: 0.2745 - val_loss: 2.0665 - val_accuracy: 0.0385\n",
      "Epoch 6/10\n",
      "1/1 [==============================] - 0s 26ms/step - loss: 1.9814 - accuracy: 0.2059 - val_loss: 2.0416 - val_accuracy: 0.1923\n",
      "Epoch 7/10\n",
      "1/1 [==============================] - 0s 24ms/step - loss: 1.9582 - accuracy: 0.2059 - val_loss: 2.0007 - val_accuracy: 0.1923\n",
      "Epoch 8/10\n",
      "1/1 [==============================] - 0s 25ms/step - loss: 1.9253 - accuracy: 0.2157 - val_loss: 1.9657 - val_accuracy: 0.1538\n",
      "Epoch 9/10\n",
      "1/1 [==============================] - 0s 26ms/step - loss: 1.8841 - accuracy: 0.1863 - val_loss: 1.9790 - val_accuracy: 0.1154\n",
      "Epoch 10/10\n",
      "1/1 [==============================] - 0s 24ms/step - loss: 1.9128 - accuracy: 0.2255 - val_loss: 2.0103 - val_accuracy: 0.1538\n"
     ]
    },
    {
     "data": {
      "text/plain": [
       "<keras.callbacks.History at 0x157800436d0>"
      ]
     },
     "execution_count": 7,
     "metadata": {},
     "output_type": "execute_result"
    }
   ],
   "source": [
    "model.fit(x_train1, y_train1,\n",
    "          batch_size=batch_size, \n",
    "          epochs=epochs,\n",
    "          verbose=verbose, \n",
    "          validation_split=validation_split)"
   ]
  },
  {
   "cell_type": "code",
   "execution_count": null,
   "id": "701a67a5",
   "metadata": {},
   "outputs": [],
   "source": []
  }
 ],
 "metadata": {
  "kernelspec": {
   "display_name": "Python 3 (ipykernel)",
   "language": "python",
   "name": "python3"
  },
  "language_info": {
   "codemirror_mode": {
    "name": "ipython",
    "version": 3
   },
   "file_extension": ".py",
   "mimetype": "text/x-python",
   "name": "python",
   "nbconvert_exporter": "python",
   "pygments_lexer": "ipython3",
   "version": "3.7.13"
  }
 },
 "nbformat": 4,
 "nbformat_minor": 5
}
