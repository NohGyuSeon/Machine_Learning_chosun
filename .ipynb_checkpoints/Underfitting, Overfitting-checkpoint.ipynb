{
 "cells": [
  {
   "cell_type": "code",
   "execution_count": null,
   "id": "bb62f79c",
   "metadata": {},
   "outputs": [],
   "source": [
    "import tensorflow as tf\n",
    "import numpy as np "
   ]
  },
  {
   "cell_type": "code",
   "execution_count": null,
   "id": "c6cbd50a",
   "metadata": {},
   "outputs": [],
   "source": [
    "mnist = tf.keras.datasets.mnist\n",
    "(x_train, y_train), (x_test, y_test) = mnist.load_data()\n",
    "x_train, x_test = x_train / 255.0, x_test / 255.0"
   ]
  },
  {
   "cell_type": "code",
   "execution_count": 11,
   "id": "f71df844",
   "metadata": {},
   "outputs": [
    {
     "name": "stdout",
     "output_type": "stream",
     "text": [
      "Model: \"sequential_3\"\n",
      "_________________________________________________________________\n",
      "Layer (type)                 Output Shape              Param #   \n",
      "=================================================================\n",
      "flatten_3 (Flatten)          (None, 784)               0         \n",
      "_________________________________________________________________\n",
      "dense_5 (Dense)              (None, 10)                7840      \n",
      "=================================================================\n",
      "Total params: 7,840\n",
      "Trainable params: 7,840\n",
      "Non-trainable params: 0\n",
      "_________________________________________________________________\n",
      "Train on 60000 samples\n",
      "Epoch 1/5\n",
      "60000/60000 [==============================] - 5s 90us/sample - loss: 0.7837 - accuracy: 0.8107\n",
      "Epoch 2/5\n",
      "60000/60000 [==============================] - 5s 79us/sample - loss: 0.4611 - accuracy: 0.8783\n",
      "Epoch 3/5\n",
      "60000/60000 [==============================] - 5s 87us/sample - loss: 0.4080 - accuracy: 0.8895\n",
      "Epoch 4/5\n",
      "60000/60000 [==============================] - 5s 82us/sample - loss: 0.3814 - accuracy: 0.8959\n",
      "Epoch 5/5\n",
      "60000/60000 [==============================] - 5s 84us/sample - loss: 0.3650 - accuracy: 0.8996\n",
      "10000/1 - 1s - loss: 0.2666 - accuracy: 0.9082\n"
     ]
    },
    {
     "data": {
      "text/plain": [
       "[0.3401364949584007, 0.9082]"
      ]
     },
     "execution_count": 11,
     "metadata": {},
     "output_type": "execute_result"
    }
   ],
   "source": [
    "# underfitting 문제\n",
    "# 패턴이 없는 데이터, 인간도 인공지능도 학습 못함. 답이없음\n",
    "# 학습 데이터의 수 (sample의 수) 대비 학습가능한 변수가 너무 적음.\n",
    "# 층의 수 (sample의 수) 대비 학습가능한 변수가 너무 적음.\n",
    "# epoch 수가 적거나, batch size가 크거나... learning rate 문제.\n",
    "# wrong model for data\n",
    "underfitting = tf.keras.models.Sequential([\n",
    "  tf.keras.layers.Flatten(input_shape=(28, 28)),\n",
    "  tf.keras.layers.Dense(10, use_bias = False, activation='softmax')\n",
    "])\n",
    "underfitting.summary()\n",
    "\n",
    "underfitting.compile(optimizer='SGD',\n",
    "              loss='sparse_categorical_crossentropy',\n",
    "              metrics=['accuracy'])\n",
    "\n",
    "underfitting.fit(x_train, y_train, epochs=5)\n",
    "underfitting.evaluate(x_test,  y_test, verbose=2)"
   ]
  },
  {
   "cell_type": "code",
   "execution_count": 13,
   "id": "a92b4880",
   "metadata": {},
   "outputs": [
    {
     "name": "stdout",
     "output_type": "stream",
     "text": [
      "Model: \"sequential_4\"\n",
      "_________________________________________________________________\n",
      "Layer (type)                 Output Shape              Param #   \n",
      "=================================================================\n",
      "flatten_4 (Flatten)          (None, 784)               0         \n",
      "_________________________________________________________________\n",
      "dense_6 (Dense)              (None, 128)               100480    \n",
      "_________________________________________________________________\n",
      "dense_7 (Dense)              (None, 128)               16512     \n",
      "_________________________________________________________________\n",
      "dense_8 (Dense)              (None, 10)                1280      \n",
      "=================================================================\n",
      "Total params: 118,272\n",
      "Trainable params: 118,272\n",
      "Non-trainable params: 0\n",
      "_________________________________________________________________\n",
      "Train on 100 samples\n",
      "Epoch 1/5\n",
      "100/100 [==============================] - 1s 6ms/sample - loss: 2.3635 - accuracy: 0.0900\n",
      "Epoch 2/5\n",
      "100/100 [==============================] - 0s 211us/sample - loss: 2.2945 - accuracy: 0.1200\n",
      "Epoch 3/5\n",
      "100/100 [==============================] - 0s 220us/sample - loss: 2.2523 - accuracy: 0.1800\n",
      "Epoch 4/5\n",
      "100/100 [==============================] - 0s 258us/sample - loss: 2.2171 - accuracy: 0.2000\n",
      "Epoch 5/5\n",
      "100/100 [==============================] - 0s 265us/sample - loss: 2.1768 - accuracy: 0.2300\n",
      "10000/1 - 1s - loss: 2.2811 - accuracy: 0.1620\n"
     ]
    },
    {
     "data": {
      "text/plain": [
       "[2.2892754631042482, 0.162]"
      ]
     },
     "execution_count": 13,
     "metadata": {},
     "output_type": "execute_result"
    }
   ],
   "source": [
    "# underfitting 문제\n",
    "# 패턴이 없는 데이터도 overfitting 가능\n",
    "# 학습 데이터의 수 (sample의 수) 대비 학습가능한 변수가 너무 많음.\n",
    "# 층의 수 (sample의 수) 대비 학습가능한 변수가 너무 많음.\n",
    "# epoch 수가 너무 많거나, \n",
    "# model이 학습 데이터에 너무 잘 맞음.\n",
    "overfitting = tf.keras.models.Sequential([\n",
    "  tf.keras.layers.Flatten(input_shape=(28, 28)),\n",
    "  tf.keras.layers.Dense(128, use_bias = True, activation='relu'),\n",
    "  tf.keras.layers.Dense(128, use_bias = True, activation='relu'),\n",
    "  tf.keras.layers.Dense(10, use_bias = False, activation='softmax')  \n",
    "])\n",
    "overfitting.summary()\n",
    "\n",
    "overfitting.compile(optimizer='SGD',\n",
    "              loss='sparse_categorical_crossentropy',\n",
    "              metrics=['accuracy'])\n",
    "\n",
    "overfitting.fit(x_train[0:100], y_train[0:100], epochs=5)\n",
    "overfitting.evaluate(x_test,  y_test, verbose=2)"
   ]
  },
  {
   "cell_type": "code",
   "execution_count": null,
   "id": "302d51c2",
   "metadata": {},
   "outputs": [],
   "source": []
  }
 ],
 "metadata": {
  "kernelspec": {
   "display_name": "Python 3 (ipykernel)",
   "language": "python",
   "name": "python3"
  },
  "language_info": {
   "codemirror_mode": {
    "name": "ipython",
    "version": 3
   },
   "file_extension": ".py",
   "mimetype": "text/x-python",
   "name": "python",
   "nbconvert_exporter": "python",
   "pygments_lexer": "ipython3",
   "version": "3.7.13"
  }
 },
 "nbformat": 4,
 "nbformat_minor": 5
}
