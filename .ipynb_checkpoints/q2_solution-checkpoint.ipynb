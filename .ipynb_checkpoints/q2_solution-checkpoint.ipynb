{
 "cells": [
  {
   "cell_type": "markdown",
   "id": "466be292",
   "metadata": {},
   "source": [
    "# 2번\n",
    "Conv1D, Conv2D, Flatten, tf.expand_dims만사용하여 MNIST data 학습.  \n",
    "Dense층은사용금지."
   ]
  },
  {
   "cell_type": "code",
   "execution_count": 1,
   "id": "7498ce2e",
   "metadata": {},
   "outputs": [],
   "source": [
    "from tensorflow.keras.layers import Flatten, Conv1D, Conv2D\n",
    "from tensorflow.keras import Model\n",
    "import tensorflow as tf\n",
    "\n",
    "import matplotlib.pyplot as pit"
   ]
  },
  {
   "cell_type": "code",
   "execution_count": 2,
   "id": "3ead013f",
   "metadata": {
    "scrolled": true
   },
   "outputs": [
    {
     "data": {
      "text/plain": [
       "<module 'keras.api._v2.keras.datasets.mnist' from 'C:\\\\Users\\\\jyb\\\\Anaconda3\\\\envs\\\\private\\\\lib\\\\site-packages\\\\keras\\\\api\\\\_v2\\\\keras\\\\datasets\\\\mnist\\\\__init__.py'>"
      ]
     },
     "execution_count": 2,
     "metadata": {},
     "output_type": "execute_result"
    }
   ],
   "source": [
    "mnist = tf.keras.datasets.mnist\n",
    "mnist"
   ]
  },
  {
   "cell_type": "code",
   "execution_count": 3,
   "id": "8fd4eb03",
   "metadata": {},
   "outputs": [],
   "source": [
    "(x_train, y_train), (x_test, y_test) = mnist.load_data()"
   ]
  },
  {
   "cell_type": "code",
   "execution_count": 4,
   "id": "85027a0d",
   "metadata": {
    "scrolled": true
   },
   "outputs": [
    {
     "name": "stdout",
     "output_type": "stream",
     "text": [
      "Train shape (60000, 28, 28) (60000,)\n",
      "Test shape (10000, 28, 28) (10000,)\n"
     ]
    }
   ],
   "source": [
    "print(\"Train shape\", x_train.shape, y_train.shape)\n",
    "print(\"Test shape\", x_test.shape, y_test.shape)"
   ]
  },
  {
   "cell_type": "code",
   "execution_count": 5,
   "id": "a4c42bcd",
   "metadata": {},
   "outputs": [
    {
     "name": "stdout",
     "output_type": "stream",
     "text": [
      "Label shape (60000,) (10000,)\n"
     ]
    }
   ],
   "source": [
    "print(\"Label shape\", y_train.shape, y_test.shape)"
   ]
  },
  {
   "cell_type": "code",
   "execution_count": 6,
   "id": "16af4a1d",
   "metadata": {},
   "outputs": [],
   "source": [
    "reshaped_train_x = x_train.reshape(-1, 28, 28, 1)\n",
    "reshaped_test_x = x_test.reshape(-1, 28, 28, 1)"
   ]
  },
  {
   "cell_type": "code",
   "execution_count": 7,
   "id": "f2b3808b",
   "metadata": {},
   "outputs": [
    {
     "name": "stdout",
     "output_type": "stream",
     "text": [
      "Reshaped shape (60000, 28, 28, 1) (10000, 28, 28, 1)\n"
     ]
    }
   ],
   "source": [
    "print(\"Reshaped shape\", reshaped_train_x.shape, reshaped_test_x.shape)"
   ]
  },
  {
   "cell_type": "code",
   "execution_count": 8,
   "id": "71fbde84",
   "metadata": {},
   "outputs": [],
   "source": [
    "## Nomralize\n",
    "reshaped_train_x, reshaped_test_x = reshaped_train_x / 255.0, reshaped_test_x / 255.0"
   ]
  },
  {
   "cell_type": "code",
   "execution_count": 9,
   "id": "a215341c",
   "metadata": {
    "scrolled": false
   },
   "outputs": [
    {
     "name": "stdout",
     "output_type": "stream",
     "text": [
      "Model: \"sequential\"\n",
      "_________________________________________________________________\n",
      " Layer (type)                Output Shape              Param #   \n",
      "=================================================================\n",
      " conv2d (Conv2D)             (None, 14, 14, 32)        320       \n",
      "                                                                 \n",
      " conv2d_1 (Conv2D)           (None, 7, 7, 32)          9248      \n",
      "                                                                 \n",
      " conv2d_2 (Conv2D)           (None, 4, 4, 32)          9248      \n",
      "                                                                 \n",
      " conv2d_3 (Conv2D)           (None, 2, 2, 32)          9248      \n",
      "                                                                 \n",
      " conv2d_4 (Conv2D)           (None, 1, 1, 32)          9248      \n",
      "                                                                 \n",
      " conv2d_5 (Conv2D)           (None, 1, 1, 10)          2890      \n",
      "                                                                 \n",
      " flatten (Flatten)           (None, 10)                0         \n",
      "                                                                 \n",
      "=================================================================\n",
      "Total params: 40,202\n",
      "Trainable params: 40,202\n",
      "Non-trainable params: 0\n",
      "_________________________________________________________________\n"
     ]
    }
   ],
   "source": [
    "## Define  Model\n",
    "model = tf.keras.models.Sequential([\n",
    "    Conv2D(32, kernel_size=(3, 3), strides=(2, 2), padding='same', activation='relu', input_shape=(28, 28, 1)),\n",
    "    Conv2D(32, kernel_size=(3, 3), strides=(2, 2), padding='same', activation='relu'),\n",
    "    Conv2D(32, kernel_size=(3, 3), strides=(2, 2), padding='same', activation='relu'),\n",
    "    Conv2D(32, kernel_size=(3, 3), strides=(2, 2), padding='same', activation='relu'),\n",
    "    Conv2D(32, kernel_size=(3, 3), strides=(2, 2), padding='same', activation='relu'),\n",
    "    Conv2D(10, kernel_size=(3, 3), strides=(2, 2), padding='same', activation='softmax'),\n",
    "    Flatten()\n",
    "])\n",
    "model.summary()"
   ]
  },
  {
   "cell_type": "code",
   "execution_count": 10,
   "id": "f143d5d2",
   "metadata": {},
   "outputs": [],
   "source": [
    "model.compile(optimizer='adam',\n",
    "              loss='sparse_categorical_crossentropy',\n",
    "              metrics=['accuracy'])"
   ]
  },
  {
   "cell_type": "code",
   "execution_count": 11,
   "id": "b0b62886",
   "metadata": {},
   "outputs": [],
   "source": [
    "epochs = 10\n",
    "batch_size = 256\n",
    "learning_rate = 0.01\n",
    "verbose = 1\n",
    "validation_split = 0.2"
   ]
  },
  {
   "cell_type": "code",
   "execution_count": 13,
   "id": "6c26eeb5",
   "metadata": {},
   "outputs": [
    {
     "name": "stdout",
     "output_type": "stream",
     "text": [
      "Epoch 1/10\n",
      "188/188 [==============================] - 5s 23ms/step - loss: 0.7881 - accuracy: 0.7610 - val_loss: 0.2731 - val_accuracy: 0.9193\n",
      "Epoch 2/10\n",
      "188/188 [==============================] - 4s 22ms/step - loss: 0.2512 - accuracy: 0.9257 - val_loss: 0.1966 - val_accuracy: 0.9409\n",
      "Epoch 3/10\n",
      "188/188 [==============================] - 4s 22ms/step - loss: 0.1771 - accuracy: 0.9474 - val_loss: 0.1380 - val_accuracy: 0.9583\n",
      "Epoch 4/10\n",
      "188/188 [==============================] - 4s 22ms/step - loss: 0.1312 - accuracy: 0.9611 - val_loss: 0.1088 - val_accuracy: 0.9682\n",
      "Epoch 5/10\n",
      "188/188 [==============================] - 4s 22ms/step - loss: 0.1058 - accuracy: 0.9678 - val_loss: 0.0965 - val_accuracy: 0.9711\n",
      "Epoch 6/10\n",
      "188/188 [==============================] - 4s 22ms/step - loss: 0.0885 - accuracy: 0.9732 - val_loss: 0.0997 - val_accuracy: 0.9703\n",
      "Epoch 7/10\n",
      "188/188 [==============================] - 4s 22ms/step - loss: 0.0744 - accuracy: 0.9764 - val_loss: 0.0924 - val_accuracy: 0.9722\n",
      "Epoch 8/10\n",
      "188/188 [==============================] - 4s 22ms/step - loss: 0.0656 - accuracy: 0.9795 - val_loss: 0.0741 - val_accuracy: 0.9787\n",
      "Epoch 9/10\n",
      "188/188 [==============================] - 4s 22ms/step - loss: 0.0586 - accuracy: 0.9816 - val_loss: 0.0670 - val_accuracy: 0.9797\n",
      "Epoch 10/10\n",
      "188/188 [==============================] - 4s 22ms/step - loss: 0.0521 - accuracy: 0.9837 - val_loss: 0.0729 - val_accuracy: 0.9784\n"
     ]
    },
    {
     "data": {
      "text/plain": [
       "<keras.callbacks.History at 0x2327e5373d0>"
      ]
     },
     "execution_count": 13,
     "metadata": {},
     "output_type": "execute_result"
    }
   ],
   "source": [
    "model.fit(reshaped_train_x, y_train,\n",
    "          batch_size=batch_size, \n",
    "          epochs=epochs,\n",
    "          verbose=verbose, \n",
    "          validation_split=validation_split)"
   ]
  },
  {
   "cell_type": "code",
   "execution_count": 14,
   "id": "9ae173dd",
   "metadata": {},
   "outputs": [
    {
     "name": "stdout",
     "output_type": "stream",
     "text": [
      "313/313 [==============================] - 0s 1ms/step - loss: 0.3404 - accuracy: 0.9786\n",
      "Test accuracy:  0.978600025177002\n"
     ]
    }
   ],
   "source": [
    "test_loss, test_acc = model.evaluate(x_test, y_test)\n",
    "print('Test accuracy: ', test_acc)"
   ]
  },
  {
   "cell_type": "code",
   "execution_count": null,
   "id": "701a67a5",
   "metadata": {},
   "outputs": [],
   "source": []
  }
 ],
 "metadata": {
  "kernelspec": {
   "display_name": "Python 3 (ipykernel)",
   "language": "python",
   "name": "python3"
  },
  "language_info": {
   "codemirror_mode": {
    "name": "ipython",
    "version": 3
   },
   "file_extension": ".py",
   "mimetype": "text/x-python",
   "name": "python",
   "nbconvert_exporter": "python",
   "pygments_lexer": "ipython3",
   "version": "3.7.13"
  }
 },
 "nbformat": 4,
 "nbformat_minor": 5
}
